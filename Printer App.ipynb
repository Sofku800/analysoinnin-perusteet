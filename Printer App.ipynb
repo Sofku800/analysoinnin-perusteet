{
 "cells": [
  {
   "cell_type": "code",
   "execution_count": 1,
   "metadata": {},
   "outputs": [],
   "source": [
    "creator =\"Sofia\"\n",
    "\n",
    "number1 =5\n",
    "number2 =5\n",
    "\n",
    "multiplication =number1*number2\n",
    "addition =number1+number2\n",
    "division =number1/number2\n",
    "substarction =number1-number2\n"
   ]
  },
  {
   "cell_type": "code",
   "execution_count": 2,
   "metadata": {},
   "outputs": [
    {
     "name": "stdout",
     "output_type": "stream",
     "text": [
      "Printer App\n",
      "This app is made by: Sofia\n"
     ]
    }
   ],
   "source": [
    "print(\"Printer App\")\n",
    "print(\"This app is made by:\",creator)"
   ]
  },
  {
   "cell_type": "code",
   "execution_count": 3,
   "metadata": {},
   "outputs": [
    {
     "name": "stdout",
     "output_type": "stream",
     "text": [
      "The value number2 is 5\n"
     ]
    }
   ],
   "source": [
    "\n",
    "#print(number1)\n",
    "#print(\"The value number1 is \" +str(number1))\n",
    "print(\"The value number2 is\" ,number2)"
   ]
  },
  {
   "cell_type": "code",
   "execution_count": 4,
   "metadata": {},
   "outputs": [
    {
     "name": "stdout",
     "output_type": "stream",
     "text": [
      "5  *  5  =  25\n",
      "5  /  5  =  10\n",
      "5  -  5  =  0\n"
     ]
    }
   ],
   "source": [
    "\n",
    "\n",
    "#print(str(number1) + \" * \" + str(number2) + \" = \" + str(multiplication))\n",
    "print(number1 , \" * \" , number2 , \" = \" ,multiplication)\n",
    "print(number1 , \" / \" , number2 , \" = \" ,addition)\n",
    "print(number1 , \" - \" , number2 , \" = \" , substarction)\n"
   ]
  }
 ],
 "metadata": {
  "kernelspec": {
   "display_name": "Python 3",
   "language": "python",
   "name": "python3"
  },
  "language_info": {
   "codemirror_mode": {
    "name": "ipython",
    "version": 3
   },
   "file_extension": ".py",
   "mimetype": "text/x-python",
   "name": "python",
   "nbconvert_exporter": "python",
   "pygments_lexer": "ipython3",
   "version": "3.12.0"
  }
 },
 "nbformat": 4,
 "nbformat_minor": 2
}
