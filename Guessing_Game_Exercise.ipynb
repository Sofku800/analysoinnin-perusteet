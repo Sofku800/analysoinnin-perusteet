{
 "cells": [
  {
   "cell_type": "code",
   "execution_count": 10,
   "metadata": {},
   "outputs": [
    {
     "name": "stdout",
     "output_type": "stream",
     "text": [
      "Try again.\n",
      "Try again.\n",
      "“Congratulation!\n",
      "Guesses:  3\n"
     ]
    }
   ],
   "source": [
    "\n",
    "\n",
    "\n",
    "\n",
    "Name = \"Emma\"\n",
    "attempts = 0\n",
    "while True:\n",
    "    Answer=input(\"Guess name?\")\n",
    "    attempts += 1\n",
    "\n",
    "    if Answer==Name:\n",
    "        print(\"“Congratulation!\")\n",
    "        print(\"Guesses: \", attempts)\n",
    "        break\n",
    "    else:\n",
    "        print(\"Try again.\")\n",
    "    \n",
    "\n",
    "\n"
   ]
  }
 ],
 "metadata": {
  "kernelspec": {
   "display_name": "Python 3",
   "language": "python",
   "name": "python3"
  },
  "language_info": {
   "codemirror_mode": {
    "name": "ipython",
    "version": 3
   },
   "file_extension": ".py",
   "mimetype": "text/x-python",
   "name": "python",
   "nbconvert_exporter": "python",
   "pygments_lexer": "ipython3",
   "version": "3.12.0"
  }
 },
 "nbformat": 4,
 "nbformat_minor": 2
}
