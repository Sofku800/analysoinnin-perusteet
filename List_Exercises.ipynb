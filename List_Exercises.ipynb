{
 "cells": [
  {
   "cell_type": "code",
   "execution_count": 28,
   "metadata": {},
   "outputs": [
    {
     "name": "stdout",
     "output_type": "stream",
     "text": [
      "['table', 'chair', 'shelf', 'Sofa']\n",
      "['table', 'chair']\n",
      "Sofa\n"
     ]
    }
   ],
   "source": [
    "#Exercise 1\n",
    "\n",
    "\n",
    "mylist = [\"table\", \"chair\", \"shelf\", \"Sofa\"]\n",
    "\n",
    "print(mylist)\n",
    "\n",
    "print(mylist[0:2])\n",
    "\n",
    "print(mylist[3])"
   ]
  },
  {
   "cell_type": "code",
   "execution_count": 27,
   "metadata": {},
   "outputs": [
    {
     "name": "stdout",
     "output_type": "stream",
     "text": [
      "[2, 5, 7, 3, 6]\n",
      "23\n",
      "7\n"
     ]
    }
   ],
   "source": [
    "#Exercise 2\n",
    "\n",
    "import random\n",
    "\n",
    "\n",
    "thrownDiceNumber=random.sample(range(0,10),5)\n",
    "print(thrownDiceNumber)\n",
    "\n",
    "Sum=sum(thrownDiceNumber)\n",
    "thrownDiceNumber.sort()\n",
    "print(Sum)\n",
    "\n",
    "print(thrownDiceNumber[-1])\n",
    "\n",
    "#Tai maxValue = max(thrownDiceNumber)\n",
    "#print(maxValue)\n",
    "\n"
   ]
  },
  {
   "cell_type": "code",
   "execution_count": 29,
   "metadata": {},
   "outputs": [
    {
     "name": "stdout",
     "output_type": "stream",
     "text": [
      "[13, 3, 7, 4, 9]\n"
     ]
    }
   ],
   "source": [
    "#Exercise 3\n",
    "\n",
    "import random\n",
    "Number=random.sample(range(1,20),5)\n",
    "\n",
    "print(Number)\n",
    "\n"
   ]
  }
 ],
 "metadata": {
  "kernelspec": {
   "display_name": "Python 3",
   "language": "python",
   "name": "python3"
  },
  "language_info": {
   "codemirror_mode": {
    "name": "ipython",
    "version": 3
   },
   "file_extension": ".py",
   "mimetype": "text/x-python",
   "name": "python",
   "nbconvert_exporter": "python",
   "pygments_lexer": "ipython3",
   "version": "3.12.0"
  }
 },
 "nbformat": 4,
 "nbformat_minor": 2
}
