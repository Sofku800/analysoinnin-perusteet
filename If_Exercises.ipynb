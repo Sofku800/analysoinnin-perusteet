{
 "cells": [
  {
   "cell_type": "code",
   "execution_count": 15,
   "metadata": {},
   "outputs": [
    {
     "name": "stdout",
     "output_type": "stream",
     "text": [
      "equals\n"
     ]
    }
   ],
   "source": [
    "number1=10\n",
    "number2=10\n",
    "\n",
    "#1.a)\n",
    "if number1 == number2:\n",
    "    print(\"equals\")\n",
    "else:\n",
    "    print(\"no equals\")"
   ]
  },
  {
   "cell_type": "code",
   "execution_count": 16,
   "metadata": {},
   "outputs": [
    {
     "name": "stdout",
     "output_type": "stream",
     "text": [
      "number1 is not greater than number2\n"
     ]
    }
   ],
   "source": [
    "#1.b)\n",
    "if number1>number2:\n",
    "    print(\"number1 is greater than number2\")\n",
    "else:\n",
    "    print(\"number1 is not greater than number2\")"
   ]
  },
  {
   "cell_type": "code",
   "execution_count": 17,
   "metadata": {},
   "outputs": [
    {
     "name": "stdout",
     "output_type": "stream",
     "text": [
      "number1 is greater or equal to number2\n"
     ]
    }
   ],
   "source": [
    "#1.c)\n",
    "if number1>=number2:\n",
    "    print(\"number1 is greater or equal to number2\")\n",
    "else:\n",
    "    print(\"Is not equal or greater\")"
   ]
  },
  {
   "cell_type": "code",
   "execution_count": 18,
   "metadata": {},
   "outputs": [
    {
     "name": "stdout",
     "output_type": "stream",
     "text": [
      "number1 is equal to number2\n"
     ]
    }
   ],
   "source": [
    "#1.d)\n",
    "if number1 != number2:\n",
    "    print(\"number1 is not equal to number2\")\n",
    "else:\n",
    "    print(\"number1 is equal to number2\")"
   ]
  },
  {
   "cell_type": "code",
   "execution_count": 34,
   "metadata": {},
   "outputs": [
    {
     "name": "stdout",
     "output_type": "stream",
     "text": [
      "no\n"
     ]
    }
   ],
   "source": [
    "Number1=10\n",
    "Number2=30\n",
    "Number3=40\n",
    "\n",
    "#2.a)\n",
    "if Number1 == Number2&Number2==Number3:\n",
    "    print(\"All numbers is equal\")\n",
    "else:\n",
    "    print(\"no\")"
   ]
  },
  {
   "cell_type": "code",
   "execution_count": 22,
   "metadata": {},
   "outputs": [
    {
     "name": "stdout",
     "output_type": "stream",
     "text": [
      "no\n"
     ]
    }
   ],
   "source": [
    "#2.b)\n",
    "if Number1 == Number2 | Number2 == Number3:\n",
    "    print(\"N2 and N1 or N2 and N3 are equal \")\n",
    "else:\n",
    "    print(\"no\")"
   ]
  },
  {
   "cell_type": "code",
   "execution_count": 23,
   "metadata": {},
   "outputs": [
    {
     "name": "stdout",
     "output_type": "stream",
     "text": [
      "N1 is no greater then N2 and N3\n"
     ]
    }
   ],
   "source": [
    "#2.c)\n",
    "if Number1 > Number2 & Number1 > Number3:\n",
    "    print(\"N1 are greater than N2 and N3\")\n",
    "else:\n",
    "    print(\"N1 is no greater then N2 and N3\")"
   ]
  },
  {
   "cell_type": "code",
   "execution_count": 36,
   "metadata": {},
   "outputs": [
    {
     "name": "stdout",
     "output_type": "stream",
     "text": [
      "No\n"
     ]
    }
   ],
   "source": [
    "#2.d)\n",
    "if Number1 > Number2:\n",
    "    print(\"N1 > N2\")\n",
    "elif Number2 > Number3:\n",
    "    print(\"N2 > N3\")\n",
    "else:\n",
    "    print(\"No\")"
   ]
  },
  {
   "cell_type": "code",
   "execution_count": 37,
   "metadata": {},
   "outputs": [
    {
     "name": "stdout",
     "output_type": "stream",
     "text": [
      "No\n"
     ]
    }
   ],
   "source": [
    "#2.e)\n",
    "if Number1 == Number2:\n",
    "    print(\"N1 and N2 equals\")\n",
    "elif Number1 == Number3:\n",
    "    print(\"N1 and N2 equals\")\n",
    "else:\n",
    "    print(\"No\")"
   ]
  },
  {
   "cell_type": "code",
   "execution_count": 38,
   "metadata": {},
   "outputs": [
    {
     "name": "stdout",
     "output_type": "stream",
     "text": [
      "names is not same\n"
     ]
    }
   ],
   "source": [
    "name1=\"sofia\"\n",
    "name2=\"noora\"\n",
    "name3=\"pilvi\"\n",
    "\n",
    "#3.a)\n",
    "if name1 == name2:\n",
    "    print(\"name1 and name2 is the same\")\n",
    "else:\n",
    "    print(\"names is not same\")"
   ]
  },
  {
   "cell_type": "code",
   "execution_count": 40,
   "metadata": {},
   "outputs": [
    {
     "name": "stdout",
     "output_type": "stream",
     "text": [
      "Name1 and name2 is not equal\n"
     ]
    }
   ],
   "source": [
    "#3.b)\n",
    "if name1 != name2:\n",
    "    print(\"Name1 and name2 is not equal\")\n",
    "else:\n",
    "    print(\"equal\")"
   ]
  },
  {
   "cell_type": "code",
   "execution_count": 41,
   "metadata": {},
   "outputs": [
    {
     "name": "stdout",
     "output_type": "stream",
     "text": [
      "no one are equal\n"
     ]
    }
   ],
   "source": [
    "#3.c)\n",
    "if name1 == name2:\n",
    "    print(\"name1 and name2 is the same\")\n",
    "elif name1 == name2:\n",
    "    print(\"name1 and name3 is the same\")\n",
    "else:\n",
    "    print(\"no one are equal\")"
   ]
  }
 ],
 "metadata": {
  "kernelspec": {
   "display_name": "Python 3",
   "language": "python",
   "name": "python3"
  },
  "language_info": {
   "codemirror_mode": {
    "name": "ipython",
    "version": 3
   },
   "file_extension": ".py",
   "mimetype": "text/x-python",
   "name": "python",
   "nbconvert_exporter": "python",
   "pygments_lexer": "ipython3",
   "version": "3.12.0"
  }
 },
 "nbformat": 4,
 "nbformat_minor": 2
}
